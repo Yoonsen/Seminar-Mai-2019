{
 "cells": [
  {
   "cell_type": "markdown",
   "metadata": {},
   "source": [
    "### Oppstart"
   ]
  },
  {
   "cell_type": "markdown",
   "metadata": {},
   "source": [
    "### Preamble"
   ]
  },
  {
   "cell_type": "code",
   "execution_count": 1,
   "metadata": {},
   "outputs": [],
   "source": [
    "!curl -s \"https://raw.githubusercontent.com/Yoonsen/Modules/master/module_update.py\" > \"module_update.py\""
   ]
  },
  {
   "cell_type": "code",
   "execution_count": 2,
   "metadata": {},
   "outputs": [],
   "source": [
    "from module_update import update, css"
   ]
  },
  {
   "cell_type": "code",
   "execution_count": 3,
   "metadata": {},
   "outputs": [
    {
     "data": {
      "text/html": [
       "<style>@import url(\n",
       "http://fonts.googleapis.com/css?family=Lato|Philosopher|Montserrat|Source+Code+Pro|Istok+Web|Philosopher|Assistant:200,400,700);\n",
       "\n",
       "/*\n",
       "#notebook-container {\n",
       "\t-webkit-box-shadow: none;\n",
       "\tbox-shadow: none;\n",
       "}\n",
       "*/\n",
       "\n",
       "h1, h2, h3, h4, h5, h6 {\n",
       "\tfont-family: 'Montserrat', sans-serif;\n",
       "\tline-height: 2em;\n",
       "    color: #004f99;\n",
       "    font-weight: 600;\n",
       "}\n",
       "\n",
       "h1 { font-size: 4.5em; }\n",
       "h2 { font-size: 4em; }\n",
       "h3 { font-size: 3.5em; }\n",
       "h4 { font-size: 3em; }\n",
       "h5 { font-size: 2.5em; color:DarkSlateGray; }\n",
       "h6 { font-size: 2em; }\n",
       "\n",
       "p {\n",
       "\tfont-family: 'Assistant', sans-serif; \n",
       "\tfont-size: 1.2em;\n",
       "\tline-height: 1.4em;\n",
       "\tcolor: black;\n",
       "}\n",
       "p code {\n",
       "\tfont-size:0.9em;\n",
       "}\n",
       "div.input_area {\n",
       "\tborder:none !important;\n",
       "\tborder-left:1px solid #ff851b !important\n",
       "}\n",
       "\n",
       "span.cm-keyword {\n",
       "\tcolor:#339966 !important;\n",
       "}\n",
       "span.nn {  /*span.cm-variable, span.cm-property*/\n",
       "\tcolor: #3399ff !important;\n",
       "}\n",
       "div.CodeMirror {\n",
       "\tfont-family: 'Inconsolata', monospace;\n",
       "\tfont-size: 1.1em;\n",
       "\t\n",
       "}\n",
       "</style>"
      ],
      "text/plain": [
       "<IPython.core.display.HTML object>"
      ]
     },
     "execution_count": 3,
     "metadata": {},
     "output_type": "execute_result"
    }
   ],
   "source": [
    "css()"
   ]
  },
  {
   "cell_type": "code",
   "execution_count": 4,
   "metadata": {},
   "outputs": [],
   "source": [
    "plot = lambda x,lw=3,alpha=0.8: x.plot(figsize=(12, 5), lw=lw, alpha=alpha)"
   ]
  },
  {
   "cell_type": "code",
   "execution_count": 5,
   "metadata": {},
   "outputs": [],
   "source": [
    "import warnings\n",
    "warnings.filterwarnings('ignore')"
   ]
  },
  {
   "cell_type": "code",
   "execution_count": 6,
   "metadata": {},
   "outputs": [],
   "source": [
    "import nbtext as nb\n",
    "from nbtext import vekstdiagram, make_graph, get_urn, relaterte_ord\n",
    "\n",
    "%matplotlib inline"
   ]
  },
  {
   "cell_type": "markdown",
   "metadata": {},
   "source": [
    "## Narrative buer\n",
    "\n",
    "Basert på Kurt Vonneguts video om narrative buer: [![video](https://img.youtube.com/vi/GOGru_4z1Vc/0.jpg)](https://www.youtube.com/watch?v=GOGru_4z1Vc&t=249s)\n",
    "\n"
   ]
  },
  {
   "cell_type": "markdown",
   "metadata": {},
   "source": [
    "## Finn bøker\n",
    "\n",
    "Finner bøker om *Morgan Kane* med korpus-kommandoen `book_urn()`, og legg til nødvendig metadata."
   ]
  },
  {
   "cell_type": "code",
   "execution_count": 7,
   "metadata": {},
   "outputs": [
    {
     "data": {
      "text/plain": [
       "[[2013070108113, 'Masterson, Louis', \"Kane's kvinner\", 1974],\n",
       " [2013042338041, 'Masterson, Louis', '\"Killer\" Kane', 1970],\n",
       " [2007081700037, 'Masterson, Louis', 'Ingen tårer for Morgan Kane', 1989],\n",
       " [2013042308035, 'Masterson, Louis', \"Kane's stjerne\", 1985],\n",
       " [2010092808038, 'Masterson, Louis', \"Kane's våpen\", 1974],\n",
       " [2013060708079, 'Masterson, Louis', 'Satans Kane!', 1976],\n",
       " [2007071601101, 'Masterson, Louis', 'Legenden om Morgan Kane', 1973],\n",
       " [2013070108115, 'Masterson, Louis', \"Kane's likemann\", 1970],\n",
       " [2013080808047, 'Masterson, Louis', \"I Morgan Kane's fotspor\", 1980],\n",
       " [2013070108110, 'Masterson, Louis', 'Morgan Kane - menneskejeger', 1971],\n",
       " [2013070108066, 'Masterson, Louis', \"Morgan Kane's lov\", 1974],\n",
       " [2013041608022, 'Masterson, Louis', 'Ingen tårer for Morgan Kane', 1967],\n",
       " [2007070300049, 'Masterson, Louis', '\"Killer\" Kane', 1981],\n",
       " [2016060108119, 'Masterson, Louis', \"Kane's likemann\", 1970],\n",
       " [2013052908062, 'Masterson, Louis', 'Morgan Kane - menneskejeger', 1975],\n",
       " [2013042508132, 'Masterson, Louis', \"I Morgan Kane's fotspor\", 1975],\n",
       " [2015111008044, 'Masterson, Louis', 'Morgan Kane og \"The Wild Bunch\"', 1976],\n",
       " [2013070108111, 'Masterson, Louis', 'Morgan Kane og \"The wild bunch\"', 1980],\n",
       " [2015111008045, 'Masterson, Louis', 'Dette er døden, sẽnor Kane', 1980],\n",
       " [2013042508134, 'Masterson, Louis', \"Kane's colt\", 1971]]"
      ]
     },
     "execution_count": 7,
     "metadata": {},
     "output_type": "execute_result"
    }
   ],
   "source": [
    "# Hent URN-er, lag korpus med book_urn()\n",
    "\n",
    "urner = nb.book_urn(author=\"masterson%louis%\", period=(1960, 1990), title='%kane%', )\n",
    "urner"
   ]
  },
  {
   "cell_type": "markdown",
   "metadata": {},
   "source": [
    "Indeksen kan brukes sammen **urner[]** for å referere til en bok. Referansen og **urner[]** kan brukes om hverandre. "
   ]
  },
  {
   "cell_type": "markdown",
   "metadata": {},
   "source": [
    "### Sett av ord for å sjekke mot. \n",
    "\n",
    "For å lage et sett ord, er det ikke verre enn å bare liste opp ord som kan passe. For hjelp til å konstruere et passende sett av ord er kommandoen `relaterte_ord(startord)` grei å bruke; den samler sammen en del ord semantisk knyttet til `startord`. Samme operasjon som vises under galakser i NB N-gram."
   ]
  },
  {
   "cell_type": "code",
   "execution_count": 8,
   "metadata": {},
   "outputs": [],
   "source": [
    "kampord = \"\"\"kuler kulen kulene revolver revolveren\n",
    "gevær geværet krutt kruttet hylse hylsen\n",
    "skuddet sår skudd såret blod blodet skadet\n",
    "skadene slag slagene slaget spark sparket\"\"\".split()"
   ]
  },
  {
   "cell_type": "code",
   "execution_count": 9,
   "metadata": {
    "scrolled": true
   },
   "outputs": [
    {
     "data": {
      "text/plain": [
       "['hyggelig',\n",
       " 'morsom',\n",
       " 'underholdende',\n",
       " 'avslappet',\n",
       " 'blid',\n",
       " 'glad',\n",
       " 'trivelig',\n",
       " 'uhøytidelig',\n",
       " 'elskverdig',\n",
       " 'munter',\n",
       " 'smilende',\n",
       " 'trygg',\n",
       " 'kvikk',\n",
       " 'omgjengelig',\n",
       " 'rolig',\n",
       " 'vennlig',\n",
       " 'interessant',\n",
       " 'behagelig',\n",
       " 'hjelpsom',\n",
       " 'grei',\n",
       " 'lykkelig',\n",
       " 'harmonisk',\n",
       " 'uformell',\n",
       " 'velspilt',\n",
       " 'nostalgisk',\n",
       " 'lærerik',\n",
       " 'sikker',\n",
       " 'intim',\n",
       " 'fornøyd',\n",
       " 'humoristisk',\n",
       " 'inspirerende',\n",
       " 'livlig',\n",
       " 'tilfreds',\n",
       " 'festlig',\n",
       " 'selvsikker',\n",
       " 'spennende',\n",
       " 'imøtekommende',\n",
       " 'morsomt',\n",
       " 'stolt',\n",
       " 'avslappende',\n",
       " 'god',\n",
       " 'provoserende',\n",
       " 'lettet',\n",
       " 'fin',\n",
       " 'tankevekkende',\n",
       " 'rørt',\n",
       " 'serviceinnstilt',\n",
       " 'vittig',\n",
       " 'intimt',\n",
       " 'takknemlig',\n",
       " 'varm',\n",
       " 'opplagt',\n",
       " 'snill',\n",
       " 'godt',\n",
       " 'utfordrende',\n",
       " 'effektiv',\n",
       " 'spøkefull',\n",
       " 'travelt',\n",
       " 'ekspansivt',\n",
       " 'hektisk',\n",
       " 'uformelt',\n",
       " 'aktivt',\n",
       " 'utadvendt',\n",
       " 'aktiv',\n",
       " 'seriøs',\n",
       " 'engasjerende',\n",
       " 'omsorgsfull',\n",
       " 'sjarmerende',\n",
       " 'uanstrengt',\n",
       " 'lønnsom',\n",
       " 'lærerikt',\n",
       " 'alvorlig',\n",
       " 'optimistisk',\n",
       " 'positiv',\n",
       " 'koselig',\n",
       " 'sosialt',\n",
       " 'original',\n",
       " 'glade',\n",
       " 'enkel',\n",
       " 'naturlig',\n",
       " 'rørende',\n",
       " 'nyttig',\n",
       " 'komfortabel',\n",
       " 'vakker',\n",
       " 'fredelig',\n",
       " 'fornøyde',\n",
       " 'tilbakelent',\n",
       " 'fengslende',\n",
       " 'verdig',\n",
       " 'barnevennlig',\n",
       " 'stabil',\n",
       " 'opplysende',\n",
       " 'mystisk',\n",
       " 'lun',\n",
       " 'utadvent',\n",
       " 'satirisk',\n",
       " 'forekommende',\n",
       " 'givende',\n",
       " 'ettertenksom',\n",
       " 'romantisk',\n",
       " 'elegant',\n",
       " 'annerledes',\n",
       " 'overrasket',\n",
       " 'miljøvennlig',\n",
       " 'faglig',\n",
       " 'solrikt',\n",
       " 'komfortabelt',\n",
       " 'pålitelig',\n",
       " 'rask',\n",
       " 'blide',\n",
       " 'smertefri',\n",
       " 'charmerende',\n",
       " 'usjenert',\n",
       " 'direkte',\n",
       " 'vakkert',\n",
       " 'jevn',\n",
       " 'lettlest',\n",
       " 'fartsfylt',\n",
       " 'sjanserik',\n",
       " 'upretensiøst',\n",
       " 'sunn',\n",
       " 'folkelig',\n",
       " 'kjekk',\n",
       " 'muntert',\n",
       " 'personlig',\n",
       " 'humørfylt',\n",
       " 'ungt',\n",
       " 'leken',\n",
       " 'sliten',\n",
       " 'flott',\n",
       " 'engasjert',\n",
       " 'stemningsfull',\n",
       " 'poetisk',\n",
       " 'ironisk',\n",
       " 'minnerik',\n",
       " 'intelligent',\n",
       " 'varmhjertet',\n",
       " 'kjærlig',\n",
       " 'varmt',\n",
       " 'dyktig']"
      ]
     },
     "execution_count": 9,
     "metadata": {},
     "output_type": "execute_result"
    }
   ],
   "source": [
    "glad = relaterte_ord('munter, avslappet, plystret, lettet', 140)\n",
    "glad"
   ]
  },
  {
   "cell_type": "code",
   "execution_count": 10,
   "metadata": {},
   "outputs": [],
   "source": [
    "tilfeldige_ord =  \"revolver hjalp snerret freste tennene pannen nevene neven hansken Smith beltet kinnet slaget kulen kulene skuddet traff sneiet ørken hesten\".split()"
   ]
  },
  {
   "cell_type": "markdown",
   "metadata": {
    "collapsed": true
   },
   "source": [
    "## Lag buer for ordene i en bestemt bok\n",
    "\n",
    "Bruk et av elementene i trefflisten, eller om URN-en er kjent, bruk den."
   ]
  },
  {
   "cell_type": "code",
   "execution_count": 11,
   "metadata": {},
   "outputs": [],
   "source": [
    "nb.plot_book_wordbags??"
   ]
  },
  {
   "cell_type": "code",
   "execution_count": 12,
   "metadata": {},
   "outputs": [
    {
     "data": {
      "text/plain": [
       "<matplotlib.axes._subplots.AxesSubplot at 0x272fd91b160>"
      ]
     },
     "execution_count": 12,
     "metadata": {},
     "output_type": "execute_result"
    },
    {
     "data": {
      "image/png": "[encoded data removed]",
      "text/plain": [
       "<Figure size 864x360 with 1 Axes>"
      ]
     },
     "metadata": {
      "needs_background": "light"
     },
     "output_type": "display_data"
    }
   ],
   "source": [
    "plot(nb.plot_book_wordbags( [2015111008045, 'Masterson, Louis', 'Dette er døden, sẽnor Kane', 1980], {'gladord': glad}, window=5000, pr=100))"
   ]
  },
  {
   "cell_type": "code",
   "execution_count": 13,
   "metadata": {},
   "outputs": [
    {
     "data": {
      "text/plain": [
       "<matplotlib.axes._subplots.AxesSubplot at 0x272fdd9ae10>"
      ]
     },
     "execution_count": 13,
     "metadata": {},
     "output_type": "execute_result"
    },
    {
     "data": {
      "image/png": "[encoded data removed]",
      "text/plain": [
       "<Figure size 864x360 with 1 Axes>"
      ]
     },
     "metadata": {
      "needs_background": "light"
     },
     "output_type": "display_data"
    }
   ],
   "source": [
    "plot(nb.plot_book_wordbags(2015111008045,{'kampord': kampord,'gladord':glad}, window = 5000))"
   ]
  },
  {
   "cell_type": "code",
   "execution_count": 14,
   "metadata": {},
   "outputs": [],
   "source": [
    "# prøve andre bøker"
   ]
  }
 ],
 "metadata": {
  "hide_input": false,
  "kernelspec": {
   "display_name": "Python 3",
   "language": "python",
   "name": "python3"
  },
  "language_info": {
   "codemirror_mode": {
    "name": "ipython",
    "version": 3
   },
   "file_extension": ".py",
   "mimetype": "text/x-python",
   "name": "python",
   "nbconvert_exporter": "python",
   "pygments_lexer": "ipython3",
   "version": "3.7.1"
  }
 },
 "nbformat": 4,
 "nbformat_minor": 2
}
