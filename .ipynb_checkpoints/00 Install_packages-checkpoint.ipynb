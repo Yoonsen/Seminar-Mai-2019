{
 "cells": [
  {
   "cell_type": "markdown",
   "metadata": {},
   "source": [
    "# Packages that do not come as standard\n",
    "\n",
    "Just activate the commands as you normally would"
   ]
  },
  {
   "cell_type": "markdown",
   "metadata": {},
   "source": [
    "### Upgrade pip (the Python installer)\n",
    "\n",
    "For some packages there is a difference in using `pip` vs `conda`"
   ]
  },
  {
   "cell_type": "code",
   "execution_count": 1,
   "metadata": {},
   "outputs": [
    {
     "name": "stdout",
     "output_type": "stream",
     "text": [
      "Collecting pip\n",
      "  Downloading https://files.pythonhosted.org/packages/62/ca/94d32a6516ed197a491d17d46595ce58a83cbb2fca280414e57cd86b84dc/pip-19.2.1-py2.py3-none-any.whl (1.4MB)\n",
      "Installing collected packages: pip\n",
      "  Found existing installation: pip 19.1.1\n",
      "    Uninstalling pip-19.1.1:\n",
      "      Successfully uninstalled pip-19.1.1\n",
      "Successfully installed pip-19.2.1\n"
     ]
    }
   ],
   "source": [
    "!python -m pip install --upgrade pip"
   ]
  },
  {
   "cell_type": "markdown",
   "metadata": {},
   "source": [
    "###  Wordcloud, check info on [Github](https://github.com/amueller/word_cloud)"
   ]
  },
  {
   "cell_type": "code",
   "execution_count": 2,
   "metadata": {},
   "outputs": [
    {
     "name": "stdout",
     "output_type": "stream",
     "text": [
      "Requirement already satisfied: msgpack in c:\\users\\yoons\\anaconda3\\lib\\site-packages (0.6.1)\n",
      "Collecting wordcloud\n",
      "  Downloading https://files.pythonhosted.org/packages/23/4e/1254d26ce5d36facdcbb5820e7e434328aed68e99938c75c9d4e2fee5efb/wordcloud-1.5.0-cp37-cp37m-win_amd64.whl (153kB)\n",
      "Requirement already satisfied: numpy>=1.6.1 in c:\\users\\yoons\\anaconda3\\lib\\site-packages (from wordcloud) (1.16.4)\n",
      "Requirement already satisfied: pillow in c:\\users\\yoons\\anaconda3\\lib\\site-packages (from wordcloud) (6.1.0)\n",
      "Installing collected packages: wordcloud\n",
      "Successfully installed wordcloud-1.5.0\n"
     ]
    }
   ],
   "source": [
    "!pip install msgpack\n",
    "!pip install wordcloud"
   ]
  },
  {
   "cell_type": "markdown",
   "metadata": {},
   "source": [
    "### The louvain package for `networkx`. Check out [Wikipedia](https://en.wikipedia.org/wiki/Louvain_Modularity), [Python](https://python-louvain.readthedocs.io/en/latest/)"
   ]
  },
  {
   "cell_type": "code",
   "execution_count": 3,
   "metadata": {},
   "outputs": [
    {
     "name": "stdout",
     "output_type": "stream",
     "text": [
      "Collecting python_louvain\n",
      "  Downloading https://files.pythonhosted.org/packages/96/b2/c74bb9023c8d4bf94f5049e3d705b3064c6f180a38d772055d20ba5a8d06/python-louvain-0.13.tar.gz\n",
      "Requirement already satisfied: networkx in c:\\users\\yoons\\anaconda3\\lib\\site-packages (from python_louvain) (2.3)\n",
      "Requirement already satisfied: decorator>=4.3.0 in c:\\users\\yoons\\anaconda3\\lib\\site-packages (from networkx->python_louvain) (4.4.0)\n",
      "Building wheels for collected packages: python-louvain\n",
      "  Building wheel for python-louvain (setup.py): started\n",
      "  Building wheel for python-louvain (setup.py): finished with status 'done'\n",
      "  Created wheel for python-louvain: filename=python_louvain-0.13-cp37-none-any.whl size=9228 sha256=5831fe7596b8411c5f8325a0a22925ad6a2580d2a9daaac40194c1b24737f468\n",
      "  Stored in directory: C:\\Users\\yoons\\AppData\\Local\\pip\\Cache\\wheels\\f9\\74\\a9\\14f051b00dddd46d71529db15507796da13a43ee2c0bc39def\n",
      "Successfully built python-louvain\n",
      "Installing collected packages: python-louvain\n",
      "Successfully installed python-louvain-0.13\n"
     ]
    }
   ],
   "source": [
    "!pip install python_louvain"
   ]
  },
  {
   "cell_type": "markdown",
   "metadata": {},
   "source": [
    "### Display XML process HTML. [beautifulsoup]( https://www.crummy.com/software/BeautifulSoup/bs4/doc/)"
   ]
  },
  {
   "cell_type": "code",
   "execution_count": 4,
   "metadata": {},
   "outputs": [
    {
     "name": "stdout",
     "output_type": "stream",
     "text": [
      "Requirement already satisfied: beautifulsoup4 in c:\\users\\yoons\\anaconda3\\lib\\site-packages (4.7.1)\n",
      "Requirement already satisfied: soupsieve>=1.2 in c:\\users\\yoons\\anaconda3\\lib\\site-packages (from beautifulsoup4) (1.8)\n"
     ]
    }
   ],
   "source": [
    "!pip install beautifulsoup4"
   ]
  },
  {
   "cell_type": "markdown",
   "metadata": {},
   "source": [
    "### Refresh Python kernel"
   ]
  },
  {
   "cell_type": "code",
   "execution_count": 5,
   "metadata": {},
   "outputs": [
    {
     "name": "stdout",
     "output_type": "stream",
     "text": [
      "Requirement already satisfied: ipykernel in c:\\users\\yoons\\anaconda3\\lib\\site-packages (5.1.1)\n",
      "Requirement already satisfied: jupyter-client in c:\\users\\yoons\\anaconda3\\lib\\site-packages (from ipykernel) (5.3.1)\n",
      "Requirement already satisfied: traitlets>=4.1.0 in c:\\users\\yoons\\anaconda3\\lib\\site-packages (from ipykernel) (4.3.2)\n",
      "Requirement already satisfied: ipython>=5.0.0 in c:\\users\\yoons\\anaconda3\\lib\\site-packages (from ipykernel) (7.6.1)\n",
      "Requirement already satisfied: tornado>=4.2 in c:\\users\\yoons\\anaconda3\\lib\\site-packages (from ipykernel) (6.0.3)\n",
      "Requirement already satisfied: jupyter-core in c:\\users\\yoons\\anaconda3\\lib\\site-packages (from jupyter-client->ipykernel) (4.5.0)\n",
      "Requirement already satisfied: python-dateutil>=2.1 in c:\\users\\yoons\\anaconda3\\lib\\site-packages (from jupyter-client->ipykernel) (2.8.0)\n",
      "Requirement already satisfied: pyzmq>=13 in c:\\users\\yoons\\anaconda3\\lib\\site-packages (from jupyter-client->ipykernel) (18.0.0)\n",
      "Requirement already satisfied: decorator in c:\\users\\yoons\\anaconda3\\lib\\site-packages (from traitlets>=4.1.0->ipykernel) (4.4.0)\n",
      "Requirement already satisfied: ipython-genutils in c:\\users\\yoons\\anaconda3\\lib\\site-packages (from traitlets>=4.1.0->ipykernel) (0.2.0)\n",
      "Requirement already satisfied: six in c:\\users\\yoons\\anaconda3\\lib\\site-packages (from traitlets>=4.1.0->ipykernel) (1.12.0)\n",
      "Requirement already satisfied: jedi>=0.10 in c:\\users\\yoons\\anaconda3\\lib\\site-packages (from ipython>=5.0.0->ipykernel) (0.13.3)\n",
      "Requirement already satisfied: setuptools>=18.5 in c:\\users\\yoons\\anaconda3\\lib\\site-packages (from ipython>=5.0.0->ipykernel) (41.0.1)\n",
      "Requirement already satisfied: colorama; sys_platform == \"win32\" in c:\\users\\yoons\\anaconda3\\lib\\site-packages (from ipython>=5.0.0->ipykernel) (0.4.1)\n",
      "Requirement already satisfied: pickleshare in c:\\users\\yoons\\anaconda3\\lib\\site-packages (from ipython>=5.0.0->ipykernel) (0.7.5)\n",
      "Requirement already satisfied: pygments in c:\\users\\yoons\\anaconda3\\lib\\site-packages (from ipython>=5.0.0->ipykernel) (2.4.2)\n",
      "Requirement already satisfied: prompt-toolkit<2.1.0,>=2.0.0 in c:\\users\\yoons\\anaconda3\\lib\\site-packages (from ipython>=5.0.0->ipykernel) (2.0.9)\n",
      "Requirement already satisfied: backcall in c:\\users\\yoons\\anaconda3\\lib\\site-packages (from ipython>=5.0.0->ipykernel) (0.1.0)\n",
      "Requirement already satisfied: parso>=0.3.0 in c:\\users\\yoons\\anaconda3\\lib\\site-packages (from jedi>=0.10->ipython>=5.0.0->ipykernel) (0.5.0)\n",
      "Requirement already satisfied: wcwidth in c:\\users\\yoons\\anaconda3\\lib\\site-packages (from prompt-toolkit<2.1.0,>=2.0.0->ipython>=5.0.0->ipykernel) (0.1.7)\n"
     ]
    }
   ],
   "source": [
    "!pip install ipykernel"
   ]
  },
  {
   "cell_type": "markdown",
   "metadata": {},
   "source": [
    "### OpenCV for picture manipulation, [OpenCV](https://opencv.org/)"
   ]
  },
  {
   "cell_type": "code",
   "execution_count": 6,
   "metadata": {},
   "outputs": [
    {
     "name": "stdout",
     "output_type": "stream",
     "text": [
      "Collecting opencv-python\n",
      "  Downloading https://files.pythonhosted.org/packages/a3/50/04d0669afe884f137c2f490642756e8c4a658254300a9eaf253d1e643085/opencv_python-4.1.0.25-cp37-cp37m-win_amd64.whl (37.3MB)\n",
      "Requirement already satisfied: numpy>=1.14.5 in c:\\users\\yoons\\anaconda3\\lib\\site-packages (from opencv-python) (1.16.4)\n",
      "Installing collected packages: opencv-python\n",
      "Successfully installed opencv-python-4.1.0.25\n"
     ]
    }
   ],
   "source": [
    "!pip install opencv-python"
   ]
  }
 ],
 "metadata": {
  "kernelspec": {
   "display_name": "Python 3",
   "language": "python",
   "name": "python3"
  },
  "language_info": {
   "codemirror_mode": {
    "name": "ipython",
    "version": 3
   },
   "file_extension": ".py",
   "mimetype": "text/x-python",
   "name": "python",
   "nbconvert_exporter": "python",
   "pygments_lexer": "ipython3",
   "version": "3.7.3"
  }
 },
 "nbformat": 4,
 "nbformat_minor": 2
}
