{
 "cells": [
  {
   "cell_type": "markdown",
   "metadata": {},
   "source": [
    "## Oppstartceller"
   ]
  },
  {
   "cell_type": "markdown",
   "metadata": {},
   "source": [
    "#### Boot cell\n",
    "\n",
    "Skip if `module_update.py` is in same folder as notebook, next cell downloads this file which in turn will download other files."
   ]
  },
  {
   "cell_type": "code",
   "execution_count": 1,
   "metadata": {},
   "outputs": [],
   "source": [
    "!curl -s \"https://raw.githubusercontent.com/Yoonsen/Modules/master/module_update.py\" > \"module_update.py\""
   ]
  },
  {
   "cell_type": "markdown",
   "metadata": {},
   "source": [
    "#### Get essentials\n",
    "\n",
    "Import text and graph modules for analysis, and css for display"
   ]
  },
  {
   "cell_type": "code",
   "execution_count": 2,
   "metadata": {
    "slideshow": {
     "slide_type": "slide"
    }
   },
   "outputs": [],
   "source": [
    "from module_update import update, css, code_toggle"
   ]
  },
  {
   "cell_type": "code",
   "execution_count": 3,
   "metadata": {},
   "outputs": [
    {
     "data": {
      "text/html": [
       "<style>@import url(\n",
       "http://fonts.googleapis.com/css?family=Lato|Philosopher|Montserrat|Source+Code+Pro|Istok+Web|Philosopher|Assistant:200,400,700);\n",
       "\n",
       "/*\n",
       "#notebook-container {\n",
       "\t-webkit-box-shadow: none;\n",
       "\tbox-shadow: none;\n",
       "}\n",
       "*/\n",
       "\n",
       "h1, h2, h3, h4, h5, h6 {\n",
       "\tfont-family: 'Montserrat', sans-serif;\n",
       "\tline-height: 2em;\n",
       "    color: #004f99;\n",
       "    font-weight: 600;\n",
       "}\n",
       "\n",
       "h1 { font-size: 4.5em; }\n",
       "h2 { font-size: 4em; }\n",
       "h3 { font-size: 3.5em; }\n",
       "h4 { font-size: 3em; }\n",
       "h5 { font-size: 2.5em; color:DarkSlateGray; }\n",
       "h6 { font-size: 2em; }\n",
       "\n",
       "p {\n",
       "\tfont-family: 'Assistant', sans-serif; \n",
       "\tfont-size: 1.2em;\n",
       "\tline-height: 1.4em;\n",
       "\tcolor: black;\n",
       "}\n",
       "p code {\n",
       "\tfont-size:0.9em;\n",
       "}\n",
       "div.input_area {\n",
       "\tborder:none !important;\n",
       "\tborder-left:1px solid #ff851b !important\n",
       "}\n",
       "\n",
       "span.cm-keyword {\n",
       "\tcolor:#339966 !important;\n",
       "}\n",
       "span.nn {  /*span.cm-variable, span.cm-property*/\n",
       "\tcolor: #3399ff !important;\n",
       "}\n",
       "div.CodeMirror {\n",
       "\tfont-family: 'Inconsolata', monospace;\n",
       "\tfont-size: 1.1em;\n",
       "\t\n",
       "}\n",
       "</style>"
      ],
      "text/plain": [
       "<IPython.core.display.HTML object>"
      ]
     },
     "execution_count": 3,
     "metadata": {},
     "output_type": "execute_result"
    }
   ],
   "source": [
    "css()"
   ]
  },
  {
   "cell_type": "markdown",
   "metadata": {},
   "source": [
    "### Import modules, maybe update with overwrite=True"
   ]
  },
  {
   "cell_type": "code",
   "execution_count": 4,
   "metadata": {},
   "outputs": [
    {
     "data": {
      "text/markdown": [
       "Updated file `D:\\Documents\\Seminar_mars_NB-master\\graph_networkx_louvain.py`"
      ],
      "text/plain": [
       "<IPython.core.display.Markdown object>"
      ]
     },
     "metadata": {},
     "output_type": "display_data"
    }
   ],
   "source": [
    "update('graph_networkx_louvain')\n",
    "import nbtext as nb\n",
    "import graph_networkx_louvain as gnl\n",
    "from graph_networkx_louvain import cutdown, make_collocation_graph\n",
    "%matplotlib inline"
   ]
  },
  {
   "cell_type": "markdown",
   "metadata": {
    "slideshow": {
     "slide_type": "slide"
    }
   },
   "source": [
    "## Bygg korpus\n",
    "\n",
    "Korpuset er en definisjon av et korpus, og består av en samling URN-er.\n"
   ]
  },
  {
   "cell_type": "markdown",
   "metadata": {},
   "source": [
    "Korpuset defineres med metadata som dewey, emneord, navn , år, etc. Her kan [Webdewey](http://deweysearchno.pansoft.de/webdeweysearch/index.html) være til god hjelp.\n",
    "\n",
    "Kommandoen er `book_urn()`"
   ]
  },
  {
   "cell_type": "code",
   "execution_count": 5,
   "metadata": {},
   "outputs": [
    {
     "data": {
      "text/plain": [
       "[[2015102108120,\n",
       "  'Lorås, Jostein',\n",
       "  'Sjølsysselsetting og lønnsarbeid på Helgeland, 1900-1950',\n",
       "  2002],\n",
       " [2014062307149, 'Brenno, Øystein Kjerulf', 'Hallingdal', 2008],\n",
       " [2011102808121, '', 'North Sea', 1985],\n",
       " [2008071400090,\n",
       "  'Horseide, Marit Lund',\n",
       "  'I fiskerens fotefar i Flakstad',\n",
       "  1997],\n",
       " [2007062704074, 'Heltzen, Iver Ancher', 'Ranens Beskrivelse 1834', 1981],\n",
       " [2010070603033, 'Holmelid, Jarle', 'Livet ved kysten', 1996],\n",
       " [2008112403007, 'Petersen, Jan', 'Vikingetidens redskaper', 1951],\n",
       " [2008071504074, '', 'Steine', 1997],\n",
       " [2008112500070, 'Eikeset, Kjell Roger', 'I storlaksens rike', 2001],\n",
       " [2011011203022, 'Lie, Jon', 'Væreiere og nessekonger', 2008]]"
      ]
     },
     "execution_count": 5,
     "metadata": {},
     "output_type": "execute_result"
    }
   ],
   "source": [
    "nb.book_urn(ddk='9%', subject='fiske', limit=10)"
   ]
  },
  {
   "cell_type": "markdown",
   "metadata": {},
   "source": [
    "#### Legg korpuset i en variabel\n",
    "\n",
    "Variabelen brukes til å referere til korpuset senere"
   ]
  },
  {
   "cell_type": "code",
   "execution_count": 6,
   "metadata": {},
   "outputs": [],
   "source": [
    "korpus = nb.book_urn(ddk=\"33%\", period=(1960, 1970))"
   ]
  },
  {
   "cell_type": "markdown",
   "metadata": {},
   "source": [
    "Prøve å definere et eget korpus, eksperimenter med forskjellige kombinasjoner. Hold gjerne `limit=10` eller mindre i første omgang."
   ]
  },
  {
   "cell_type": "code",
   "execution_count": 7,
   "metadata": {},
   "outputs": [],
   "source": [
    "# legg inn egen kommando her\n"
   ]
  },
  {
   "cell_type": "code",
   "execution_count": null,
   "metadata": {},
   "outputs": [],
   "source": []
  },
  {
   "cell_type": "markdown",
   "metadata": {},
   "source": [
    "## Konkordans\n",
    "\n",
    "Kommando for å lage konkordanser fra et sett med URN-er er `urn_concordance()` (OBS! Korpuset bør være under 100 bøker for responsivitet)"
   ]
  },
  {
   "cell_type": "code",
   "execution_count": 8,
   "metadata": {},
   "outputs": [
    {
     "data": {
      "text/html": [
       "<table><tr>\n",
       "                <td>\n",
       "                    <a href='http://www.nb.no/items/URN:NBN:no-nb_digibok_2007042501092?searchText=kvinner' target='_blank' style='text-decoration:none'>Langtidslinjer i norsk økonomi 1865-1960 =, Bjerke, Juul, 1966</a>\n",
       "                </td>\n",
       "                <td>4. Yrkeshyppighet i prosent særskilt for menn og</td>\n",
       "                <td>kvinner</td>\n",
       "                <td style='text-align:left'>over 64 år og i alderen 15 — 64 år</td>\n",
       "            </tr>\n",
       "<tr>\n",
       "                <td>\n",
       "                    <a href='http://www.nb.no/items/URN:NBN:no-nb_digibok_2007042501092?searchText=kvinner' target='_blank' style='text-decoration:none'>Langtidslinjer i norsk økonomi 1865-1960 =, Bjerke, Juul, 1966</a>\n",
       "                </td>\n",
       "                <td>5. Gifte</td>\n",
       "                <td>kvinner</td>\n",
       "                <td style='text-align:left'>i arbeidsdyktig alder ( 1 5 — 64 år )</td>\n",
       "            </tr>\n",
       "<tr>\n",
       "                <td>\n",
       "                    <a href='http://www.nb.no/items/URN:NBN:no-nb_digibok_2007042501092?searchText=kvinner' target='_blank' style='text-decoration:none'>Langtidslinjer i norsk økonomi 1865-1960 =, Bjerke, Juul, 1966</a>\n",
       "                </td>\n",
       "                <td>1 5 — 64 år ) og yrkeshyppighet for gifte</td>\n",
       "                <td>kvinner</td>\n",
       "                <td style='text-align:left'>None</td>\n",
       "            </tr>\n",
       "<tr>\n",
       "                <td>\n",
       "                    <a href='http://www.nb.no/items/URN:NBN:no-nb_digibok_2007042501092?searchText=kvinner' target='_blank' style='text-decoration:none'>Langtidslinjer i norsk økonomi 1865-1960 =, Bjerke, Juul, 1966</a>\n",
       "                </td>\n",
       "                <td>ved na^onalproduktet. Bte > rst detvdning nar dette tornoldet tor</td>\n",
       "                <td>kvinner</td>\n",
       "                <td style='text-align:left'>i ardsidsdvktig alder . Nn ineget stor del av den</td>\n",
       "            </tr>\n",
       "<tr>\n",
       "                <td>\n",
       "                    <a href='http://www.nb.no/items/URN:NBN:no-nb_digibok_2007042501092?searchText=kvinner' target='_blank' style='text-decoration:none'>Langtidslinjer i norsk økonomi 1865-1960 =, Bjerke, Juul, 1966</a>\n",
       "                </td>\n",
       "                <td>ten ellers vil det dade dlant ardeidsdvktige inenn og ardeidsdvktige</td>\n",
       "                <td>kvinner</td>\n",
       "                <td style='text-align:left'>vZLre inange soin ikke er vrkesaktive , tordi de dlir</td>\n",
       "            </tr>\n",
       "<tr>\n",
       "                <td>\n",
       "                    <a href='http://www.nb.no/items/URN:NBN:no-nb_digibok_2007043004044?searchText=kvinner' target='_blank' style='text-decoration:none'>Pensjon og samfunn, Palmstrøm, Henrik, 1961</a>\n",
       "                </td>\n",
       "                <td>a bli 70 ar og av 100 25 - arige</td>\n",
       "                <td>kvinner</td>\n",
       "                <td style='text-align:left'>kan 78 vente a bli 70 ar . De Reste</td>\n",
       "            </tr>\n",
       "<tr>\n",
       "                <td>\n",
       "                    <a href='http://www.nb.no/items/URN:NBN:no-nb_digibok_2007043004044?searchText=kvinner' target='_blank' style='text-decoration:none'>Pensjon og samfunn, Palmstrøm, Henrik, 1961</a>\n",
       "                </td>\n",
       "                <td>satt til 65 ar for menn og 60 ar for</td>\n",
       "                <td>kvinner</td>\n",
       "                <td style='text-align:left'>.</td>\n",
       "            </tr>\n",
       "<tr>\n",
       "                <td>\n",
       "                    <a href='http://www.nb.no/items/URN:NBN:no-nb_digibok_2007043004044?searchText=kvinner' target='_blank' style='text-decoration:none'>Pensjon og samfunn, Palmstrøm, Henrik, 1961</a>\n",
       "                </td>\n",
       "                <td>. ) gitt en oversikt over svkelignet blant menn og</td>\n",
       "                <td>kvinner</td>\n",
       "                <td style='text-align:left'>i forskjellige aldre og konkluderer med følgende :</td>\n",
       "            </tr>\n",
       "<tr>\n",
       "                <td>\n",
       "                    <a href='http://www.nb.no/items/URN:NBN:no-nb_digibok_2007043004044?searchText=kvinner' target='_blank' style='text-decoration:none'>Pensjon og samfunn, Palmstrøm, Henrik, 1961</a>\n",
       "                </td>\n",
       "                <td>viser Btort Bett Bamme tendenB . Lade blant menn og</td>\n",
       "                <td>kvinner</td>\n",
       "                <td style='text-align:left'>stiger svkeligneten med alderen , og kvinnene nar som regel</td>\n",
       "            </tr>\n",
       "<tr>\n",
       "                <td>\n",
       "                    <a href='http://www.nb.no/items/URN:NBN:no-nb_digibok_2007043004044?searchText=kvinner' target='_blank' style='text-decoration:none'>Pensjon og samfunn, Palmstrøm, Henrik, 1961</a>\n",
       "                </td>\n",
       "                <td>følge av barnefødsler og stell av mindreårige barn . Gifte</td>\n",
       "                <td>kvinner</td>\n",
       "                <td style='text-align:left'>har som det vil ses , gjennomgående en større fraværshyppighet</td>\n",
       "            </tr>\n",
       "<tr>\n",
       "                <td>\n",
       "                    <a href='http://www.nb.no/items/URN:NBN:no-nb_digibok_2007032901006?searchText=kvinner' target='_blank' style='text-decoration:none'>Vi og vårt land, Klunde, Trygve, 1963</a>\n",
       "                </td>\n",
       "                <td>Btor nMe 8 a denne liNl pa omtrent 400 000</td>\n",
       "                <td>kvinner</td>\n",
       "                <td style='text-align:left'>oZ menn Bom arbeider i induBtrien ?</td>\n",
       "            </tr>\n",
       "<tr>\n",
       "                <td>\n",
       "                    <a href='http://www.nb.no/items/URN:NBN:no-nb_digibok_2007032901006?searchText=kvinner' target='_blank' style='text-decoration:none'>Vi og vårt land, Klunde, Trygve, 1963</a>\n",
       "                </td>\n",
       "                <td>1. november 1961 sysselsatt i alt 60 865 menn og</td>\n",
       "                <td>kvinner</td>\n",
       "                <td style='text-align:left'>. Av disse var ca. 51 000 nordmenn , mens</td>\n",
       "            </tr>\n",
       "<tr>\n",
       "                <td>\n",
       "                    <a href='http://www.nb.no/items/URN:NBN:no-nb_digibok_2007032901006?searchText=kvinner' target='_blank' style='text-decoration:none'>Vi og vårt land, Klunde, Trygve, 1963</a>\n",
       "                </td>\n",
       "                <td>på ca. 65 000 , hvorav vel 4 000 er</td>\n",
       "                <td>kvinner</td>\n",
       "                <td style='text-align:left'>. I forhold til f.eks. industrien , som sysselsetter mellom</td>\n",
       "            </tr>\n",
       "<tr>\n",
       "                <td>\n",
       "                    <a href='http://www.nb.no/items/URN:NBN:no-nb_digibok_2013060408131?searchText=kvinner' target='_blank' style='text-decoration:none'>Økonomisk politikk i Norge 1945-65, Thon, Sverre, 1968</a>\n",
       "                </td>\n",
       "                <td>dyrtidstillegg på 30 øre for menn og 20 øre for</td>\n",
       "                <td>kvinner</td>\n",
       "                <td style='text-align:left'>, som bare ga delvis kompensasjon for stigningen i leveomkostningene</td>\n",
       "            </tr>\n",
       "<tr>\n",
       "                <td>\n",
       "                    <a href='http://www.nb.no/items/URN:NBN:no-nb_digibok_2013060408131?searchText=kvinner' target='_blank' style='text-decoration:none'>Økonomisk politikk i Norge 1945-65, Thon, Sverre, 1968</a>\n",
       "                </td>\n",
       "                <td>dyrtidstillegget til 58 øre for menn og 39 øre for</td>\n",
       "                <td>kvinner</td>\n",
       "                <td style='text-align:left'>, samt innførte en halvautomatisk indeksregulering som gikk ut på</td>\n",
       "            </tr>\n",
       "<tr>\n",
       "                <td>\n",
       "                    <a href='http://www.nb.no/items/URN:NBN:no-nb_digibok_2013060408131?searchText=kvinner' target='_blank' style='text-decoration:none'>Økonomisk politikk i Norge 1945-65, Thon, Sverre, 1968</a>\n",
       "                </td>\n",
       "                <td>som lå 18 % høyere enn i 1938 , for</td>\n",
       "                <td>kvinner</td>\n",
       "                <td style='text-align:left'>32 % . Tariffrevisjonene var ikke enebestemmende . Den såkalte</td>\n",
       "            </tr>\n",
       "<tr>\n",
       "                <td>\n",
       "                    <a href='http://www.nb.no/items/URN:NBN:no-nb_digibok_2011060108092?searchText=kvinner' target='_blank' style='text-decoration:none'>Farvel til fattigdommen?, Norbye, Ole David Koht, 1969</a>\n",
       "                </td>\n",
       "                <td>sine , er en slående motsetning til værbitte , svartkledde</td>\n",
       "                <td>kvinner</td>\n",
       "                <td style='text-align:left'>med skaut over håret og som bærer sakene sine i</td>\n",
       "            </tr>\n",
       "<tr>\n",
       "                <td>\n",
       "                    <a href='http://www.nb.no/items/URN:NBN:no-nb_digibok_2011060108092?searchText=kvinner' target='_blank' style='text-decoration:none'>Farvel til fattigdommen?, Norbye, Ole David Koht, 1969</a>\n",
       "                </td>\n",
       "                <td>nødvendig pr. innbygger på grunnlag av tallet på menn ,</td>\n",
       "                <td>kvinner</td>\n",
       "                <td style='text-align:left'>og barn og også på grunnlag av den typiske kroppsvekten</td>\n",
       "            </tr>\n",
       "<tr>\n",
       "                <td>\n",
       "                    <a href='http://www.nb.no/items/URN:NBN:no-nb_digibok_2011060108092?searchText=kvinner' target='_blank' style='text-decoration:none'>Farvel til fattigdommen?, Norbye, Ole David Koht, 1969</a>\n",
       "                </td>\n",
       "                <td>Vi må også mobilisere en hær av unge og eldre</td>\n",
       "                <td>kvinner</td>\n",
       "                <td style='text-align:left'>og menn som med sin innsats kan hjelpe de fattigste</td>\n",
       "            </tr>\n",
       "<tr>\n",
       "                <td>\n",
       "                    <a href='http://www.nb.no/items/URN:NBN:no-nb_digibok_2016030808077?searchText=kvinner' target='_blank' style='text-decoration:none'>Norges postsparebank 1950-1960, , 1960</a>\n",
       "                </td>\n",
       "                <td>funksjonærer pr. utgangen av 1959 var 13 menn og 89</td>\n",
       "                <td>kvinner</td>\n",
       "                <td style='text-align:left'>. Når en så stor del av staben består av</td>\n",
       "            </tr>\n",
       "<tr>\n",
       "                <td>\n",
       "                    <a href='http://www.nb.no/items/URN:NBN:no-nb_digibok_2016030808077?searchText=kvinner' target='_blank' style='text-decoration:none'>Norges postsparebank 1950-1960, , 1960</a>\n",
       "                </td>\n",
       "                <td>. Når en så stor del av staben består av</td>\n",
       "                <td>kvinner</td>\n",
       "                <td style='text-align:left'>, er grunnen bl . a . den at ved</td>\n",
       "            </tr>\n",
       "<tr>\n",
       "                <td>\n",
       "                    <a href='http://www.nb.no/items/URN:NBN:no-nb_digibok_2016030808077?searchText=kvinner' target='_blank' style='text-decoration:none'>Norges postsparebank 1950-1960, , 1960</a>\n",
       "                </td>\n",
       "                <td>bl . a . den at ved bankens hullkortanlegg anvendes</td>\n",
       "                <td>kvinner</td>\n",
       "                <td style='text-align:left'>ikke bare til å utføre stansearbeid ( punching ) ,</td>\n",
       "            </tr>\n",
       "<tr>\n",
       "                <td>\n",
       "                    <a href='http://www.nb.no/items/URN:NBN:no-nb_digibok_2014061008082?searchText=kvinner' target='_blank' style='text-decoration:none'>Trondhjem kommunale tjenestemenns forening 50 år, , 1968</a>\n",
       "                </td>\n",
       "                <td>fra flere hold ble det reist krav om at gifte</td>\n",
       "                <td>kvinner</td>\n",
       "                <td style='text-align:left'>, hvis menn hadde bra betalt arbeide , skulle bort</td>\n",
       "            </tr>\n",
       "<tr>\n",
       "                <td>\n",
       "                    <a href='http://www.nb.no/items/URN:NBN:no-nb_digibok_2007060504019?searchText=kvinner' target='_blank' style='text-decoration:none'>Verda i vokster, Rødevand, Øivind, 1965</a>\n",
       "                </td>\n",
       "                <td>. Tre fjerdepartar av dei 300 000 spanske tekstilarbeidarane er</td>\n",
       "                <td>kvinner</td>\n",
       "                <td style='text-align:left'>.</td>\n",
       "            </tr>\n",
       "<tr>\n",
       "                <td>\n",
       "                    <a href='http://www.nb.no/items/URN:NBN:no-nb_digibok_2007060504019?searchText=kvinner' target='_blank' style='text-decoration:none'>Verda i vokster, Rødevand, Øivind, 1965</a>\n",
       "                </td>\n",
       "                <td>Dei star pa , Hellnalla i rekkje og rad .</td>\n",
       "                <td>kvinner</td>\n",
       "                <td style='text-align:left'>og dom liaustar dei unge og friske tedlada mange gonger</td>\n",
       "            </tr>\n",
       "<tr>\n",
       "                <td>\n",
       "                    <a href='http://www.nb.no/items/URN:NBN:no-nb_digibok_2007060504019?searchText=kvinner' target='_blank' style='text-decoration:none'>Verda i vokster, Rødevand, Øivind, 1965</a>\n",
       "                </td>\n",
       "                <td>. Etter at dei store trea er felte , går</td>\n",
       "                <td>kvinner</td>\n",
       "                <td style='text-align:left'>med kraftige knivar laus på underskogen . Her skal det</td>\n",
       "            </tr>\n",
       "<tr>\n",
       "                <td>\n",
       "                    <a href='http://www.nb.no/items/URN:NBN:no-nb_digibok_2007060504019?searchText=kvinner' target='_blank' style='text-decoration:none'>Verda i vokster, Rødevand, Øivind, 1965</a>\n",
       "                </td>\n",
       "                <td>kilometer lange Keisarkanalen mellom Peking og Yangchoubukta. Titusentals menn og</td>\n",
       "                <td>kvinner</td>\n",
       "                <td style='text-align:left'>vart sette inn i desse anleggsarbeida . Dei var kledde</td>\n",
       "            </tr>\n",
       "<tr>\n",
       "                <td>\n",
       "                    <a href='http://www.nb.no/items/URN:NBN:no-nb_digibok_2007060504019?searchText=kvinner' target='_blank' style='text-decoration:none'>Verda i vokster, Rødevand, Øivind, 1965</a>\n",
       "                </td>\n",
       "                <td>Det er imponerande kva</td>\n",
       "                <td>kvinner</td>\n",
       "                <td style='text-align:left'>i sørlege land kan bere på hovudet . Her har</td>\n",
       "            </tr>\n",
       "<tr>\n",
       "                <td>\n",
       "                    <a href='http://www.nb.no/items/URN:NBN:no-nb_digibok_2013071908177?searchText=kvinner' target='_blank' style='text-decoration:none'>Bolsøy sparebank 100 år, Berild, Ansgar, 1963</a>\n",
       "                </td>\n",
       "                <td>, Møre og Romsdal fylkesarbeidsskule på Strandheim , Husflitsskulen for</td>\n",
       "                <td>kvinner</td>\n",
       "                <td style='text-align:left'>på Kviltorp og Romsdal yrkesskole på Fuglset . Ungdom i</td>\n",
       "            </tr>\n",
       "<tr>\n",
       "                <td>\n",
       "                    <a href='http://www.nb.no/items/URN:NBN:no-nb_digibok_2013071908177?searchText=kvinner' target='_blank' style='text-decoration:none'>Bolsøy sparebank 100 år, Berild, Ansgar, 1963</a>\n",
       "                </td>\n",
       "                <td>2208 personar elles (</td>\n",
       "                <td>kvinner</td>\n",
       "                <td style='text-align:left'>, born o . a . )</td>\n",
       "            </tr>\n",
       "</table>"
      ],
      "text/plain": [
       "<IPython.core.display.HTML object>"
      ]
     },
     "execution_count": 8,
     "metadata": {},
     "output_type": "execute_result"
    }
   ],
   "source": [
    "nb.urn_concordance(word = 'kvinner', urns = korpus, before = 10, after = 10)"
   ]
  },
  {
   "cell_type": "markdown",
   "metadata": {},
   "source": [
    "## Hent fra fritekst\n",
    "\n",
    "Søk ette bøker på [nb.no](https://www.nb.no/search?q=), legg til *debugon* sammen med søkekriteriet. Kopier hele siden (ctrl-A) og lim inn resultatet mellom \"\"\" ... \"\"\" nedenfor. Kommandoen som brukes er `pure_urn(<tekst>)` som prøver å finne URN-er i alt mulig av tekst."
   ]
  },
  {
   "cell_type": "code",
   "execution_count": 9,
   "metadata": {},
   "outputs": [],
   "source": [
    "fritt_korpus = nb.pure_urn(\"\"\"\n",
    "\n",
    "--- lim inn tekst her, for ek\n",
    "\n",
    "\n",
    "\"\"\")"
   ]
  },
  {
   "cell_type": "code",
   "execution_count": 10,
   "metadata": {},
   "outputs": [
    {
     "data": {
      "text/plain": [
       "[]"
      ]
     },
     "execution_count": 10,
     "metadata": {},
     "output_type": "execute_result"
    }
   ],
   "source": [
    "fritt_korpus[:5]"
   ]
  },
  {
   "cell_type": "code",
   "execution_count": 11,
   "metadata": {},
   "outputs": [
    {
     "name": "stdout",
     "output_type": "stream",
     "text": [
      "Parameter urns missing\n"
     ]
    },
    {
     "data": {
      "text/html": [
       "<table></table>"
      ],
      "text/plain": [
       "<IPython.core.display.HTML object>"
      ]
     },
     "execution_count": 11,
     "metadata": {},
     "output_type": "execute_result"
    }
   ],
   "source": [
    "nb.urn_concordance(word='arbeid', urns=fritt_korpus)"
   ]
  }
 ],
 "metadata": {
  "kernelspec": {
   "display_name": "Python 3",
   "language": "python",
   "name": "python3"
  },
  "language_info": {
   "codemirror_mode": {
    "name": "ipython",
    "version": 3
   },
   "file_extension": ".py",
   "mimetype": "text/x-python",
   "name": "python",
   "nbconvert_exporter": "python",
   "pygments_lexer": "ipython3",
   "version": "3.7.1"
  }
 },
 "nbformat": 4,
 "nbformat_minor": 2
}
