{
 "cells": [
  {
   "cell_type": "markdown",
   "metadata": {},
   "source": [
    "## Oppstartceller"
   ]
  },
  {
   "cell_type": "markdown",
   "metadata": {},
   "source": [
    "#### Boot cell\n",
    "\n",
    "Skip if `module_update.py` is in same folder as notebook, next cell downloads this file which in turn will download other files."
   ]
  },
  {
   "cell_type": "code",
   "execution_count": 1,
   "metadata": {},
   "outputs": [],
   "source": [
    "!curl -s \"https://raw.githubusercontent.com/Yoonsen/Modules/master/module_update.py\" > \"module_update.py\""
   ]
  },
  {
   "cell_type": "markdown",
   "metadata": {},
   "source": [
    "#### Get essentials\n",
    "\n",
    "Import text and graph modules for analysis, and css for display"
   ]
  },
  {
   "cell_type": "code",
   "execution_count": 2,
   "metadata": {
    "slideshow": {
     "slide_type": "slide"
    }
   },
   "outputs": [],
   "source": [
    "from module_update import update, css, code_toggle"
   ]
  },
  {
   "cell_type": "code",
   "execution_count": 3,
   "metadata": {},
   "outputs": [
    {
     "data": {
      "text/html": [
       "<style>@import url(\n",
       "http://fonts.googleapis.com/css?family=Lato|Philosopher|Montserrat|Source+Code+Pro|Istok+Web|Philosopher|Assistant:200,400,700);\n",
       "\n",
       "/*\n",
       "#notebook-container {\n",
       "\t-webkit-box-shadow: none;\n",
       "\tbox-shadow: none;\n",
       "}\n",
       "*/\n",
       "\n",
       "h1, h2, h3, h4, h5, h6 {\n",
       "\tfont-family: 'Montserrat', sans-serif;\n",
       "\tline-height: 2em;\n",
       "    color: #004f99;\n",
       "    font-weight: 600;\n",
       "}\n",
       "\n",
       "h1 { font-size: 4.5em; }\n",
       "h2 { font-size: 4em; }\n",
       "h3 { font-size: 3.5em; }\n",
       "h4 { font-size: 3em; }\n",
       "h5 { font-size: 2.5em; color:DarkSlateGray; }\n",
       "h6 { font-size: 2em; }\n",
       "\n",
       "p {\n",
       "\tfont-family: 'Assistant', sans-serif; \n",
       "\tfont-size: 1.2em;\n",
       "\tline-height: 1.4em;\n",
       "\tcolor: black;\n",
       "}\n",
       "p code {\n",
       "\tfont-size:0.9em;\n",
       "}\n",
       "div.input_area {\n",
       "\tborder:none !important;\n",
       "\tborder-left:1px solid #ff851b !important\n",
       "}\n",
       "\n",
       "span.cm-keyword {\n",
       "\tcolor:#339966 !important;\n",
       "}\n",
       "span.nn {  /*span.cm-variable, span.cm-property*/\n",
       "\tcolor: #3399ff !important;\n",
       "}\n",
       "div.CodeMirror {\n",
       "\tfont-family: 'Inconsolata', monospace;\n",
       "\tfont-size: 1.1em;\n",
       "\t\n",
       "}\n",
       "</style>"
      ],
      "text/plain": [
       "<IPython.core.display.HTML object>"
      ]
     },
     "execution_count": 3,
     "metadata": {},
     "output_type": "execute_result"
    }
   ],
   "source": [
    "css()"
   ]
  },
  {
   "cell_type": "markdown",
   "metadata": {},
   "source": [
    "### Import modules, maybe update with overwrite=True"
   ]
  },
  {
   "cell_type": "code",
   "execution_count": 4,
   "metadata": {},
   "outputs": [
    {
     "data": {
      "text/markdown": [
       "Updated file `D:\\Documents\\Seminar_mars_NB-master\\graph_networkx_louvain.py`"
      ],
      "text/plain": [
       "<IPython.core.display.Markdown object>"
      ]
     },
     "metadata": {},
     "output_type": "display_data"
    }
   ],
   "source": [
    "update('graph_networkx_louvain')\n",
    "import nbtext as nb\n",
    "import graph_networkx_louvain as gnl\n",
    "from graph_networkx_louvain import cutdown, make_collocation_graph\n",
    "from random import sample\n",
    "%matplotlib inline"
   ]
  },
  {
   "cell_type": "markdown",
   "metadata": {
    "slideshow": {
     "slide_type": "slide"
    }
   },
   "source": [
    "## Konkordans med og uten korpus\n",
    "\n",
    "For å sjekke konkordanser i bøker og aviser benyttes kommandoen `concordance()`\n",
    "\n",
    "For aviser brukes attributtet `title = ` for å angi avis. Verdien kan/bør brukes med jokertegnet `%`."
   ]
  },
  {
   "cell_type": "code",
   "execution_count": 5,
   "metadata": {},
   "outputs": [
    {
     "data": {
      "text/html": [
       "<table><tr><td><a href='https://www.nb.no/items/URN:NBN:no-nb_digavis_aftenposten_null_null_20040113_145_21_3?searchText=sjarken' target='_'>aftenposten-20040113</a></td><td>og fiskeren var alene i</td><td>sjarken</td><td style='text-align:left'>. Flere fiskerifartøyer som var</td></tr>\n",
       "<tr><td><a href='https://www.nb.no/items/URN:NBN:no-nb_digavis_aftenposten_null_null_20040113_145_21_3?searchText=sjarken' target='_'>aftenposten-20040113</a></td><td>fiskeren var alerip * '</td><td>sjarken</td><td style='text-align:left'>. Flere fiskerifart * s</td></tr>\n",
       "<tr><td><a href='https://www.nb.no/items/URN:NBN:no-nb_digavis_aftenposten_null_null_20040119_145_29_1?searchText=sjarken' target='_'>aftenposten-20040119</a></td><td>og holder fortsatt oppsyn etter</td><td>sjarken</td><td style='text-align:left'>. ( NTB ) Nett-treff</td></tr>\n",
       "<tr><td><a href='https://www.nb.no/items/URN:NBN:no-nb_digavis_aftenposten_null_null_20041104_145_507_1?searchText=sjarken' target='_'>aftenposten-20041104</a></td><td>Tråle » , den gamle</td><td>sjarken</td><td style='text-align:left'>« Sjarke » og sjøhelikopteret</td></tr>\n",
       "<tr><td><a href='https://www.nb.no/items/URN:NBN:no-nb_digavis_aftenposten_null_null_20040718_145_320_1?searchText=sjarken' target='_'>aftenposten-20040718</a></td><td>guttungen å være med i</td><td>sjarken</td><td style='text-align:left'>til faren før han har</td></tr>\n",
       "<tr><td><a href='https://www.nb.no/items/URN:NBN:no-nb_digavis_aftenposten_null_null_19880405_129_153_1?searchText=sjarken' target='_'>aftenposten-19880405</a></td><td>En fisker fryktes omkommet efterat</td><td>sjarken</td><td style='text-align:left'>hans gikk ned utenfor Havøysund</td></tr>\n",
       "<tr><td><a href='https://www.nb.no/items/URN:NBN:no-nb_digavis_aftenposten_null_null_19880509_129_212_2?searchText=sjarken' target='_'>aftenposten-19880509</a></td><td>legger ut fra land med</td><td>sjarken</td><td style='text-align:left'>eller småbåten . Skarsvåg er</td></tr>\n",
       "<tr><td><a href='https://www.nb.no/items/URN:NBN:no-nb_digavis_aftenposten_null_null_19880616_129_270_1?searchText=sjarken' target='_'>aftenposten-19880616</a></td><td>fiskeskøyte , nå er også</td><td>sjarken</td><td style='text-align:left'>satt på land . Svart</td></tr>\n",
       "<tr><td><a href='https://www.nb.no/items/URN:NBN:no-nb_digavis_aftenposten_null_null_19880616_129_270_1?searchText=sjarken' target='_'>aftenposten-19880616</a></td><td>. I stedet kjøpte han</td><td>sjarken</td><td style='text-align:left'>« Vigrunn » for 600</td></tr>\n",
       "<tr><td><a href='https://www.nb.no/items/URN:NBN:no-nb_digavis_aftenposten_null_null_19880303_129_106_2?searchText=sjarken' target='_'>aftenposten-19880303</a></td><td>tok opp to mann fra</td><td>sjarken</td><td style='text-align:left'>\" Ragnar 3 » rett</td></tr>\n",
       "<tr><td><a href='https://www.nb.no/items/URN:NBN:no-nb_digavis_aftenposten_null_null_19621204_103_561_1?searchText=sjarken' target='_'>aftenposten-19621204</a></td><td>behold på land , mens</td><td>sjarken</td><td style='text-align:left'>ble slått i stykker i</td></tr>\n",
       "<tr><td><a href='https://www.nb.no/items/URN:NBN:no-nb_digavis_aftenposten_null_null_19620108_103_11_1?searchText=sjarken' target='_'>aftenposten-19620108</a></td><td>han skulle gå ombord i</td><td>sjarken</td><td style='text-align:left'>sin som lå ved fergekaien</td></tr>\n",
       "<tr><td><a href='https://www.nb.no/items/URN:NBN:no-nb_digavis_aftenposten_null_null_19620131_103_52_2?searchText=sjarken' target='_'>aftenposten-19620131</a></td><td>« Storebrand » A lokalisere</td><td>sjarken</td><td style='text-align:left'>med de to broriiene Evalcl</td></tr>\n",
       "<tr><td><a href='https://www.nb.no/items/URN:NBN:no-nb_digavis_aftenposten_null_null_19620131_103_52_2?searchText=sjarken' target='_'>aftenposten-19620131</a></td><td>pa land i nærheten av</td><td>sjarken</td><td style='text-align:left'>. Han så ut til</td></tr>\n",
       "<tr><td><a href='https://www.nb.no/items/URN:NBN:no-nb_digavis_aftenposten_null_null_19620131_103_52_2?searchText=sjarken' target='_'>aftenposten-19620131</a></td><td>han oppholdt seg ombord i</td><td>sjarken</td><td style='text-align:left'>. Han har nemlig bare</td></tr>\n",
       "<tr><td><a href='https://www.nb.no/items/URN:NBN:no-nb_digavis_aftenposten_null_null_19670929_108_450_2?searchText=sjarken' target='_'>aftenposten-19670929</a></td><td>. Da man returnerte var</td><td>sjarken</td><td style='text-align:left'>sunket , men kameraten hadde</td></tr>\n",
       "<tr><td><a href='https://www.nb.no/items/URN:NBN:no-nb_digavis_aftenposten_null_null_19671019_108_483_1?searchText=sjarken' target='_'>aftenposten-19671019</a></td><td>søkte nødhavn , og da</td><td>sjarken</td><td style='text-align:left'>ikke har radiotelefon , kunne</td></tr>\n",
       "<tr><td><a href='https://www.nb.no/items/URN:NBN:no-nb_digavis_aftenposten_null_null_19671030_108_502_2?searchText=sjarken' target='_'>aftenposten-19671030</a></td><td>, som var ombord i</td><td>sjarken</td><td style='text-align:left'>, antas å være omkommet</td></tr>\n",
       "<tr><td><a href='https://www.nb.no/items/URN:NBN:no-nb_digavis_aftenposten_null_null_19670413_108_168_1?searchText=sjarken' target='_'>aftenposten-19670413</a></td><td>i linebruket ved siden av</td><td>sjarken</td><td style='text-align:left'>sin utenfor Stamsund i Lofoten</td></tr>\n",
       "<tr><td><a href='https://www.nb.no/items/URN:NBN:no-nb_digavis_aftenposten_null_null_19670227_108_98_2?searchText=sjarken' target='_'>aftenposten-19670227</a></td><td>det plasket ved siden av</td><td>sjarken</td><td style='text-align:left'>. De sprang til rekken</td></tr>\n",
       "</table>"
      ],
      "text/plain": [
       "<IPython.core.display.HTML object>"
      ]
     },
     "execution_count": 5,
     "metadata": {},
     "output_type": "execute_result"
    }
   ],
   "source": [
    "nb.concordance(word='sjarken', corpus='avis', title = 'aften%', yearfrom=1960)"
   ]
  },
  {
   "cell_type": "markdown",
   "metadata": {},
   "source": [
    "Fri konkordans fra bøker:"
   ]
  },
  {
   "cell_type": "code",
   "execution_count": 6,
   "metadata": {},
   "outputs": [
    {
     "data": {
      "text/html": [
       "<table><tr><td><a href='http://www.nb.no/items/URN:NBN:no-nb_digibok_2014022624024?searchText=Vinskibelighed' target='_'>Wolff, Jens,Sketches on a tour to Copenhagen through Norway and Sweden,1814</a></td><td>love of peace ; )</td><td>Vinskibelighed</td><td style='text-align:left'>( industry ; ) Sorgenfrey</td></tr>\n",
       "<tr><td><a href='http://www.nb.no/items/URN:NBN:no-nb_digibok_2014022624026?searchText=Vinskibelighed' target='_'>Wolff, Jens,Sketches on a tour to Copenhagen, through Norway and Sweden,1816</a></td><td>of ' peace ; )</td><td>Vinskibelighed</td><td style='text-align:left'>( industry ; ) Sorgenfrey</td></tr>\n",
       "</table>"
      ],
      "text/plain": [
       "<IPython.core.display.HTML object>"
      ]
     },
     "execution_count": 6,
     "metadata": {},
     "output_type": "execute_result"
    }
   ],
   "source": [
    "nb.concordance(word='Vinskibelighed', corpus='bok', yearfrom=1600, yearto = 1850)"
   ]
  },
  {
   "cell_type": "markdown",
   "metadata": {},
   "source": [
    "## Konkordans med stort definert korpus\n",
    "\n",
    "Variabelen brukes til å referere til korpuset senere"
   ]
  },
  {
   "cell_type": "code",
   "execution_count": 7,
   "metadata": {},
   "outputs": [],
   "source": [
    "korpus = nb.book_urn(words='kvinner', ddk=\"33%\", period=(1960, 1970), limit=1000)"
   ]
  },
  {
   "cell_type": "markdown",
   "metadata": {},
   "source": [
    "Undersøk lengden på korpuset med `len()`"
   ]
  },
  {
   "cell_type": "code",
   "execution_count": 8,
   "metadata": {},
   "outputs": [
    {
     "data": {
      "text/plain": [
       "749"
      ]
     },
     "execution_count": 8,
     "metadata": {},
     "output_type": "execute_result"
    }
   ],
   "source": [
    "len(korpus)"
   ]
  },
  {
   "cell_type": "markdown",
   "metadata": {},
   "source": [
    "Vi kan dra ut et delkorpus for søkeformål med `sample()`"
   ]
  },
  {
   "cell_type": "code",
   "execution_count": 9,
   "metadata": {},
   "outputs": [
    {
     "data": {
      "text/plain": [
       "[[2012082708013, 'Oudenstad, Elling', 'Økonomien i eggproduksjonen', 1968],\n",
       " [2007032601071, 'Einarsen, Johan', 'Sosialøkonomi', 1964]]"
      ]
     },
     "execution_count": 9,
     "metadata": {},
     "output_type": "execute_result"
    }
   ],
   "source": [
    "sample(korpus, 2)"
   ]
  },
  {
   "cell_type": "markdown",
   "metadata": {},
   "source": [
    "I konkordansen kan man sette inn `sample( <korpusnavn>, <størrelse>)`. Juster størrelse til responstiden er ok. Settes den for lavt kan man risikere å ikke få treff."
   ]
  },
  {
   "cell_type": "code",
   "execution_count": 10,
   "metadata": {},
   "outputs": [
    {
     "data": {
      "text/html": [
       "<table><tr>\n",
       "                <td>\n",
       "                    <a href='http://www.nb.no/items/URN:NBN:no-nb_digibok_2007080101063?searchText=barn' target='_blank' style='text-decoration:none'>Japanske utfordring, Hedberg, Håkan, 1970</a>\n",
       "                </td>\n",
       "                <td>kan man oppleve at naboens</td>\n",
       "                <td>barn</td>\n",
       "                <td style='text-align:left'>roper begeistret : ' Vi</td>\n",
       "            </tr>\n",
       "<tr>\n",
       "                <td>\n",
       "                    <a href='http://www.nb.no/items/URN:NBN:no-nb_digibok_2007080101063?searchText=barn' target='_blank' style='text-decoration:none'>Japanske utfordring, Hedberg, Håkan, 1970</a>\n",
       "                </td>\n",
       "                <td>par blomster og ha sine</td>\n",
       "                <td>barn</td>\n",
       "                <td style='text-align:left'>lekende på en liten stripe</td>\n",
       "            </tr>\n",
       "<tr>\n",
       "                <td>\n",
       "                    <a href='http://www.nb.no/items/URN:NBN:no-nb_digibok_2007080101063?searchText=barn' target='_blank' style='text-decoration:none'>Japanske utfordring, Hedberg, Håkan, 1970</a>\n",
       "                </td>\n",
       "                <td>garasje og uten lekeplass for</td>\n",
       "                <td>barn</td>\n",
       "                <td style='text-align:left'>- ca. 75 dollar i</td>\n",
       "            </tr>\n",
       "<tr>\n",
       "                <td>\n",
       "                    <a href='http://www.nb.no/items/URN:NBN:no-nb_digibok_2007080101063?searchText=barn' target='_blank' style='text-decoration:none'>Japanske utfordring, Hedberg, Håkan, 1970</a>\n",
       "                </td>\n",
       "                <td>staten eller av sine egne</td>\n",
       "                <td>barn</td>\n",
       "                <td style='text-align:left'>. »</td>\n",
       "            </tr>\n",
       "<tr>\n",
       "                <td>\n",
       "                    <a href='http://www.nb.no/items/URN:NBN:no-nb_digibok_2007080101063?searchText=barn' target='_blank' style='text-decoration:none'>Japanske utfordring, Hedberg, Håkan, 1970</a>\n",
       "                </td>\n",
       "                <td>Hun skal ha</td>\n",
       "                <td>barn</td>\n",
       "                <td style='text-align:left'>. Boligen er for liten</td>\n",
       "            </tr>\n",
       "<tr>\n",
       "                <td>\n",
       "                    <a href='http://www.nb.no/items/URN:NBN:no-nb_digibok_2007050201014?searchText=barn' target='_blank' style='text-decoration:none'>Boligfinansieringen i Norge, Monssen, Egil, 1962</a>\n",
       "                </td>\n",
       "                <td>familier med</td>\n",
       "                <td>barn</td>\n",
       "                <td style='text-align:left'>som stønadslånene føres til utgift</td>\n",
       "            </tr>\n",
       "<tr>\n",
       "                <td>\n",
       "                    <a href='http://www.nb.no/items/URN:NBN:no-nb_digibok_2007050201014?searchText=barn' target='_blank' style='text-decoration:none'>Boligfinansieringen i Norge, Monssen, Egil, 1962</a>\n",
       "                </td>\n",
       "                <td>soin stsnadsordningene kor kainilier ined</td>\n",
       "                <td>barn</td>\n",
       "                <td style='text-align:left'>og kritagelsen kor eiendoinsskatter.</td>\n",
       "            </tr>\n",
       "<tr>\n",
       "                <td>\n",
       "                    <a href='http://www.nb.no/items/URN:NBN:no-nb_digibok_2007050201014?searchText=barn' target='_blank' style='text-decoration:none'>Boligfinansieringen i Norge, Monssen, Egil, 1962</a>\n",
       "                </td>\n",
       "                <td>spesielle kategorier ( familier med</td>\n",
       "                <td>barn</td>\n",
       "                <td style='text-align:left'>, gamle , uføre m</td>\n",
       "            </tr>\n",
       "<tr>\n",
       "                <td>\n",
       "                    <a href='http://www.nb.no/items/URN:NBN:no-nb_digibok_2007050201014?searchText=barn' target='_blank' style='text-decoration:none'>Boligfinansieringen i Norge, Monssen, Egil, 1962</a>\n",
       "                </td>\n",
       "                <td>sosial ytelse til familier med</td>\n",
       "                <td>barn</td>\n",
       "                <td style='text-align:left'>, avregnes nå i motregning</td>\n",
       "            </tr>\n",
       "<tr>\n",
       "                <td>\n",
       "                    <a href='http://www.nb.no/items/URN:NBN:no-nb_digibok_2007073001129?searchText=barn' target='_blank' style='text-decoration:none'>Norges industriforbund 1919-1969, Hald, Knut, 1969</a>\n",
       "                </td>\n",
       "                <td>være mulig at forældre og</td>\n",
       "                <td>barn</td>\n",
       "                <td style='text-align:left'>reder sine senge , børster</td>\n",
       "            </tr>\n",
       "</table>"
      ],
      "text/plain": [
       "<IPython.core.display.HTML object>"
      ]
     },
     "execution_count": 10,
     "metadata": {},
     "output_type": "execute_result"
    }
   ],
   "source": [
    "nb.urn_concordance(word = 'barn', urns = sample(korpus, 5))"
   ]
  },
  {
   "cell_type": "markdown",
   "metadata": {},
   "source": [
    "Lag et korpus av en viss størrelse her:"
   ]
  },
  {
   "cell_type": "code",
   "execution_count": 11,
   "metadata": {},
   "outputs": [],
   "source": [
    "# legg inn egen kommando her\n"
   ]
  },
  {
   "cell_type": "markdown",
   "metadata": {},
   "source": [
    "Sjekk konkordans:"
   ]
  },
  {
   "cell_type": "code",
   "execution_count": 12,
   "metadata": {},
   "outputs": [],
   "source": [
    "# konkordans"
   ]
  },
  {
   "cell_type": "markdown",
   "metadata": {},
   "source": [
    "## Subkorpus fra et gitt korpus\n",
    "\n",
    "Definer et subkorpus med `refine_book_urns()`. Et viktig parameter er `words`, som brukes til å velge bøker som inneholder spesifikke ord. "
   ]
  },
  {
   "cell_type": "code",
   "execution_count": 13,
   "metadata": {},
   "outputs": [],
   "source": [
    "subkorpus = nb.refine_book_urn(words = ['skole'], urns=korpus, limit=1000)"
   ]
  },
  {
   "cell_type": "code",
   "execution_count": 14,
   "metadata": {},
   "outputs": [
    {
     "data": {
      "text/plain": [
       "272"
      ]
     },
     "execution_count": 14,
     "metadata": {},
     "output_type": "execute_result"
    }
   ],
   "source": [
    "len(subkorpus)"
   ]
  },
  {
   "cell_type": "markdown",
   "metadata": {},
   "source": [
    "Flere ord eller ordformer kan søkes etter på en gang. "
   ]
  },
  {
   "cell_type": "code",
   "execution_count": 15,
   "metadata": {
    "scrolled": true
   },
   "outputs": [
    {
     "data": {
      "text/html": [
       "<table><tr>\n",
       "                <td>\n",
       "                    <a href='http://www.nb.no/items/URN:NBN:no-nb_digibok_2012012708014?searchText=['skole', 'skolen', 'Skole', 'skule']' target='_blank' style='text-decoration:none'>Beskatning i landbruket, , 1970</a>\n",
       "                </td>\n",
       "                <td>skatter og avgifter er utredet . Barn som går på</td>\n",
       "                <td>skole</td>\n",
       "                <td style='text-align:left'>kan formodentlig regne med å få frikort , hvis det</td>\n",
       "            </tr>\n",
       "<tr>\n",
       "                <td>\n",
       "                    <a href='http://www.nb.no/items/URN:NBN:no-nb_digibok_2007051500018?searchText=['skole', 'skolen', 'Skole', 'skule']' target='_blank' style='text-decoration:none'>Mer enn brød, Pedersen, Odd Kvaal, 1968</a>\n",
       "                </td>\n",
       "                <td>None</td>\n",
       "                <td>skole</td>\n",
       "                <td style='text-align:left'>, den ensomme studenten i sovesalen som er overfylt ,</td>\n",
       "            </tr>\n",
       "<tr>\n",
       "                <td>\n",
       "                    <a href='http://www.nb.no/items/URN:NBN:no-nb_digibok_2007051500018?searchText=['skole', 'skolen', 'Skole', 'skule']' target='_blank' style='text-decoration:none'>Mer enn brød, Pedersen, Odd Kvaal, 1968</a>\n",
       "                </td>\n",
       "                <td>^ onelle korrn kan bli omskapt gjennom p2BBen6e land ,</td>\n",
       "                <td>skole</td>\n",
       "                <td style='text-align:left'>og skatterekormer.</td>\n",
       "            </tr>\n",
       "<tr>\n",
       "                <td>\n",
       "                    <a href='http://www.nb.no/items/URN:NBN:no-nb_digibok_2007051500018?searchText=['skole', 'skolen', 'Skole', 'skule']' target='_blank' style='text-decoration:none'>Mer enn brød, Pedersen, Odd Kvaal, 1968</a>\n",
       "                </td>\n",
       "                <td>og den er stort sett et produkt av den kristne</td>\n",
       "                <td>skolen</td>\n",
       "                <td style='text-align:left'>. For øvrig har også en rekke av verdensdelens ledende</td>\n",
       "            </tr>\n",
       "<tr>\n",
       "                <td>\n",
       "                    <a href='http://www.nb.no/items/URN:NBN:no-nb_digibok_2010111006030?searchText=['skole', 'skolen', 'Skole', 'skule']' target='_blank' style='text-decoration:none'>Boligpolitikken, , 1961</a>\n",
       "                </td>\n",
       "                <td>til å sette fingeren på statens myndighet når det gjelder</td>\n",
       "                <td>skole</td>\n",
       "                <td style='text-align:left'>, medisinalvesen etc , idet det med rette har vært</td>\n",
       "            </tr>\n",
       "<tr>\n",
       "                <td>\n",
       "                    <a href='http://www.nb.no/items/URN:NBN:no-nb_digibok_2008052001013?searchText=['skole', 'skolen', 'Skole', 'skule']' target='_blank' style='text-decoration:none'>Pearson-rapporten om utviklingshjelpen, , 1970</a>\n",
       "                </td>\n",
       "                <td>hadde drømt om at deres barn skulle få gå på</td>\n",
       "                <td>skole</td>\n",
       "                <td style='text-align:left'>, får nå se</td>\n",
       "            </tr>\n",
       "<tr>\n",
       "                <td>\n",
       "                    <a href='http://www.nb.no/items/URN:NBN:no-nb_digibok_2016030408113?searchText=['skole', 'skolen', 'Skole', 'skule']' target='_blank' style='text-decoration:none'>Innføring i sosialøkonomi, Gisvoll, Kåre, 1965</a>\n",
       "                </td>\n",
       "                <td>og forsørgede , i første rekke barn som går på</td>\n",
       "                <td>skole</td>\n",
       "                <td style='text-align:left'>, er syke o.l.</td>\n",
       "            </tr>\n",
       "</table>"
      ],
      "text/plain": [
       "<IPython.core.display.HTML object>"
      ]
     },
     "execution_count": 15,
     "metadata": {},
     "output_type": "execute_result"
    }
   ],
   "source": [
    "nb.urn_concordance(word = ['skole', 'skolen', 'Skole', 'skule'], urns = sample(subkorpus, 5), before = 10, after = 10)"
   ]
  },
  {
   "cell_type": "code",
   "execution_count": null,
   "metadata": {},
   "outputs": [],
   "source": []
  }
 ],
 "metadata": {
  "kernelspec": {
   "display_name": "Python 3",
   "language": "python",
   "name": "python3"
  },
  "language_info": {
   "codemirror_mode": {
    "name": "ipython",
    "version": 3
   },
   "file_extension": ".py",
   "mimetype": "text/x-python",
   "name": "python",
   "nbconvert_exporter": "python",
   "pygments_lexer": "ipython3",
   "version": "3.7.1"
  }
 },
 "nbformat": 4,
 "nbformat_minor": 2
}
